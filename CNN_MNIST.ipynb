{
 "cells": [
  {
   "cell_type": "code",
   "execution_count": 1,
   "metadata": {
    "collapsed": true
   },
   "outputs": [],
   "source": [
    "import tensorflow as tf\n",
    "import numpy as np"
   ]
  },
  {
   "cell_type": "code",
   "execution_count": 2,
   "metadata": {
    "collapsed": true
   },
   "outputs": [],
   "source": [
    "def reset_graph(seed=42):\n",
    "    tf.reset_default_graph()\n",
    "    tf.set_random_seed(seed)\n",
    "    np.random.seed(seed)"
   ]
  },
  {
   "cell_type": "code",
   "execution_count": 3,
   "metadata": {
    "collapsed": true
   },
   "outputs": [],
   "source": [
    "height = 28\n",
    "width = 28\n",
    "channels = 1\n",
    "n_inputs = height * width\n",
    "\n",
    "conv1_fmaps = 32\n",
    "conv1_ksize = 3\n",
    "conv1_stride = 1\n",
    "conv1_pad = \"SAME\"\n",
    "\n",
    "conv3_fmaps = 64\n",
    "conv3_ksize = 3\n",
    "conv3_stride = 2\n",
    "conv3_pad = \"SAME\"\n",
    "\n",
    "pool4_fmaps = conv3_fmaps\n",
    "\n",
    "n_fc5 = 128\n",
    "\n",
    "fc5_dropout_rate = 0.5\n",
    "\n",
    "n_outputs = 10\n",
    "\n",
    "reset_graph()\n",
    "\n",
    "with tf.name_scope(\"inputs\"):\n",
    "    X = tf.placeholder(tf.float32, shape=[None, n_inputs], name=\"X\")\n",
    "    X_reshaped = tf.reshape(X, shape=[-1, height, width, channels])\n",
    "    y = tf.placeholder(tf.int32, shape=[None], name=\"y\")\n",
    "    training = tf.placeholder_with_default(False, shape=[], name='training')\n",
    "\n",
    "with tf.name_scope(\"model\"):\n",
    "    conv1 = tf.layers.conv2d(X_reshaped, filters=conv1_fmaps, kernel_size=conv1_ksize,\n",
    "                             strides=conv1_stride, padding=conv1_pad, name=\"conv1\")\n",
    "    \n",
    "    pool2 = tf.nn.max_pool(conv1, ksize=[1, 2, 2, 1], strides=[1, 2, 2, 1],\n",
    "                           padding=\"VALID\", name=\"pool2\")\n",
    "    conv3 = tf.layers.conv2d(pool2, filters=conv3_fmaps, kernel_size=conv3_ksize,\n",
    "                             strides=conv3_stride, padding=conv3_pad, name=\"conv3\")\n",
    "    \n",
    "    with tf.name_scope(\"pool4\"):\n",
    "        pool4=tf.nn.max_pool(conv3, ksize=[1, 2, 2, 1], strides=[1, 2, 2, 1],\n",
    "                             padding=\"VALID\", name=\"pool4\")\n",
    "        pool4_flat=tf.reshape(pool4, shape=[-1, pool4_fmaps * 3 * 3])\n",
    "\n",
    "    with tf.name_scope(\"full_connect5\"):\n",
    "        fc5 = tf.layers.dense(pool4_flat, n_fc5, activation=tf.nn.relu)\n",
    "        fc5_drop = tf.layers.dropout(fc5, fc5_dropout_rate,\n",
    "                                     training=training)\n",
    "        \n",
    "    with tf.name_scope(\"output\"):\n",
    "        logits = tf.layers.dense(fc5_drop, n_outputs, name=\"output\")\n",
    "        y_prob = tf.nn.softmax(logits, name=\"y_prob\")\n",
    "\n",
    "with tf.name_scope(\"train\"):\n",
    "    xentropy = tf.nn.sparse_softmax_cross_entropy_with_logits(logits=logits, labels=y)\n",
    "    loss = tf.reduce_mean(xentropy)\n",
    "    loss_summary=tf.summary.scalar(\"loss\", loss)\n",
    "    optimizer = tf.train.AdamOptimizer()\n",
    "    training_op = optimizer.minimize(loss)\n",
    "\n",
    "with tf.name_scope(\"eval\"):\n",
    "    correct = tf.nn.in_top_k(logits, y, 1)\n",
    "    accuracy = tf.reduce_mean(tf.cast(correct, tf.float32))\n",
    "    accuracy_summary=tf.summary.scalar(\"accuracy\", accuracy)\n",
    "\n",
    "with tf.name_scope(\"init_and_saver\"):\n",
    "    init = tf.global_variables_initializer()\n",
    "    saver = tf.train.Saver()"
   ]
  },
  {
   "cell_type": "code",
   "execution_count": 4,
   "metadata": {
    "collapsed": true
   },
   "outputs": [],
   "source": [
    "def get_model_params():\n",
    "    gvars = tf.get_collection(tf.GraphKeys.GLOBAL_VARIABLES)\n",
    "    return {gvar.op.name: value for gvar, value in zip(gvars, tf.get_default_session().run(gvars))}\n",
    "\n",
    "def restore_model_params(model_params):\n",
    "    gvar_names = list(model_params.keys())\n",
    "    assign_ops = {gvar_name: tf.get_default_graph().get_operation_by_name(gvar_name + \"/Assign\")\n",
    "                  for gvar_name in gvar_names}\n",
    "    init_values = {gvar_name: assign_op.inputs[1] for gvar_name, assign_op in assign_ops.items()}\n",
    "    feed_dict = {init_values[gvar_name]: model_params[gvar_name] for gvar_name in gvar_names}\n",
    "    tf.get_default_session().run(assign_ops, feed_dict=feed_dict)"
   ]
  },
  {
   "cell_type": "code",
   "execution_count": 5,
   "metadata": {},
   "outputs": [
    {
     "name": "stdout",
     "output_type": "stream",
     "text": [
      "Extracting ./mnist_data/train-images-idx3-ubyte.gz\n",
      "Extracting ./mnist_data/train-labels-idx1-ubyte.gz\n",
      "Extracting ./mnist_data/t10k-images-idx3-ubyte.gz\n",
      "Extracting ./mnist_data/t10k-labels-idx1-ubyte.gz\n"
     ]
    }
   ],
   "source": [
    "from tensorflow.examples.tutorials.mnist import input_data\n",
    "mnist = input_data.read_data_sets(\"./mnist_data/\")"
   ]
  },
  {
   "cell_type": "code",
   "execution_count": 6,
   "metadata": {},
   "outputs": [
    {
     "name": "stdout",
     "output_type": "stream",
     "text": [
      "Epoch 0, train accuracy: 98.0000%, valid. accuracy: 97.3000%, valid. best loss: 0.090310\n",
      "Epoch 1, train accuracy: 100.0000%, valid. accuracy: 98.2400%, valid. best loss: 0.066434\n",
      "Epoch 2, train accuracy: 98.0000%, valid. accuracy: 98.4800%, valid. best loss: 0.056852\n",
      "Epoch 3, train accuracy: 98.0000%, valid. accuracy: 98.6000%, valid. best loss: 0.048353\n",
      "Epoch 4, train accuracy: 98.0000%, valid. accuracy: 98.8600%, valid. best loss: 0.043404\n",
      "Epoch 5, train accuracy: 98.0000%, valid. accuracy: 98.7800%, valid. best loss: 0.043404\n",
      "Epoch 6, train accuracy: 100.0000%, valid. accuracy: 98.7800%, valid. best loss: 0.042727\n",
      "Epoch 7, train accuracy: 100.0000%, valid. accuracy: 98.8000%, valid. best loss: 0.039800\n",
      "Epoch 8, train accuracy: 100.0000%, valid. accuracy: 98.7400%, valid. best loss: 0.039800\n",
      "Epoch 9, train accuracy: 100.0000%, valid. accuracy: 98.7800%, valid. best loss: 0.039800\n",
      "Epoch 10, train accuracy: 100.0000%, valid. accuracy: 98.9000%, valid. best loss: 0.039800\n",
      "Epoch 11, train accuracy: 100.0000%, valid. accuracy: 99.0000%, valid. best loss: 0.039800\n",
      "Epoch 12, train accuracy: 100.0000%, valid. accuracy: 98.8200%, valid. best loss: 0.039800\n",
      "Epoch 13, train accuracy: 100.0000%, valid. accuracy: 99.0400%, valid. best loss: 0.039800\n",
      "Epoch 14, train accuracy: 100.0000%, valid. accuracy: 98.8800%, valid. best loss: 0.039800\n",
      "Early stopping!\n",
      "Final accuracy on test set: 0.9883\n"
     ]
    }
   ],
   "source": [
    "n_epochs = 1000\n",
    "batch_size = 50\n",
    "\n",
    "best_loss_val = np.infty\n",
    "check_interval = 500\n",
    "checks_since_last_progress = 0\n",
    "max_checks_without_progress = 20\n",
    "best_model_params = None \n",
    "\n",
    "file_writer=tf.summary.FileWriter(\"./tf-logs\", tf.get_default_graph())\n",
    "\n",
    "with tf.Session() as sess:\n",
    "    init.run()\n",
    "    for epoch in range(n_epochs):\n",
    "        for iteration in range(mnist.train.num_examples // batch_size):\n",
    "            X_batch, y_batch = mnist.train.next_batch(batch_size)\n",
    "            sess.run(training_op, feed_dict={X: X_batch, y: y_batch, training: True})\n",
    "            if iteration % check_interval == 0:\n",
    "                loss_val, loss_summary_str = sess.run([loss, loss_summary],\n",
    "                                             feed_dict={X: mnist.validation.images,\n",
    "                                             y: mnist.validation.labels})\n",
    "                file_writer.add_summary(loss_summary_str, \n",
    "                                        epoch * (mnist.train.num_examples // batch_size) + iteration)\n",
    "                if loss_val < best_loss_val:\n",
    "                    best_loss_val = loss_val\n",
    "                    checks_since_last_progress = 0\n",
    "                    best_model_params = get_model_params()\n",
    "                else:\n",
    "                    checks_since_last_progress += 1\n",
    "        acc_train = sess.run(accuracy, feed_dict={X: X_batch, y: y_batch})\n",
    "        acc_val, acc_val_summary = sess.run([accuracy, accuracy_summary],\n",
    "                                            feed_dict={X: mnist.validation.images,\n",
    "                                                       y: mnist.validation.labels})\n",
    "        file_writer.add_summary(acc_val_summary, (epoch+1) * (mnist.train.num_examples // batch_size))\n",
    "        print(\"Epoch {}, train accuracy: {:.4f}%, valid. accuracy: {:.4f}%, valid. best loss: {:.6f}\".format(\n",
    "                  epoch, acc_train * 100, acc_val * 100, best_loss_val))\n",
    "        if checks_since_last_progress > max_checks_without_progress:\n",
    "            print(\"Early stopping!\")\n",
    "            break\n",
    "\n",
    "    if best_model_params:\n",
    "        restore_model_params(best_model_params)\n",
    "    acc_test = accuracy.eval(feed_dict={X: mnist.test.images,\n",
    "                                        y: mnist.test.labels})\n",
    "    print(\"Final accuracy on test set:\", acc_test)\n",
    "    save_path = saver.save(sess, \"./mnist_cnn_model\"\n",
    "    file_writer.close()"
   ]
  }
 ],
 "metadata": {
  "kernelspec": {
   "display_name": "Python 3",
   "language": "python",
   "name": "python3"
  },
  "language_info": {
   "codemirror_mode": {
    "name": "ipython",
    "version": 3
   },
   "file_extension": ".py",
   "mimetype": "text/x-python",
   "name": "python",
   "nbconvert_exporter": "python",
   "pygments_lexer": "ipython3",
   "version": "3.6.3"
  }
 },
 "nbformat": 4,
 "nbformat_minor": 2
}
